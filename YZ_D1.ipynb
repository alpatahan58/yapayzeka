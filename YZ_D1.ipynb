{
  "nbformat": 4,
  "nbformat_minor": 0,
  "metadata": {
    "colab": {
      "provenance": []
    },
    "kernelspec": {
      "name": "python3",
      "display_name": "Python 3"
    },
    "language_info": {
      "name": "python"
    }
  },
  "cells": [
    {
      "cell_type": "markdown",
      "source": [
        "Merhaba 2025 yaz okulu Yapay Zeka Dersi\n",
        "Google Colab üzerinde ilk kod denemesidir"
      ],
      "metadata": {
        "id": "6DIB_i157DQM"
      }
    },
    {
      "cell_type": "code",
      "execution_count": null,
      "metadata": {
        "colab": {
          "base_uri": "https://localhost:8080/"
        },
        "id": "FFLxzozozIaD",
        "outputId": "05159f7e-88ed-447c-84e9-88a06cb01b95"
      },
      "outputs": [
        {
          "output_type": "stream",
          "name": "stdout",
          "text": [
            "Merhaba, İGÜ - YAPAY ZEKA\n"
          ]
        }
      ],
      "source": [
        "print(\"Merhaba, İGÜ - YAPAY ZEKA\") # print ekrana çıktı veren bir koddur.\n"
      ]
    },
    {
      "cell_type": "code",
      "source": [
        "\n",
        "import sys # import python programlama dilinde yazılıma kütüphane eklemeye yarayan bir kod blogudur.\n",
        "print(sys.version)"
      ],
      "metadata": {
        "colab": {
          "base_uri": "https://localhost:8080/"
        },
        "id": "wMaCyC772fG8",
        "outputId": "df04d580-3ce0-4514-9ab4-e9f8dc8d861a"
      },
      "execution_count": null,
      "outputs": [
        {
          "output_type": "stream",
          "name": "stdout",
          "text": [
            "3.11.13 (main, Jun  4 2025, 08:57:29) [GCC 11.4.0]\n"
          ]
        }
      ]
    },
    {
      "cell_type": "code",
      "source": [
        "     from google.colab import drive # google colab - drive bağlantısı\n",
        "\n",
        "drive.mount('/content/drive')"
      ],
      "metadata": {
        "colab": {
          "base_uri": "https://localhost:8080/"
        },
        "id": "mi5sdX9F2hcc",
        "outputId": "82975424-d3bf-4dad-c7e4-d3eaf9631939"
      },
      "execution_count": null,
      "outputs": [
        {
          "output_type": "stream",
          "name": "stdout",
          "text": [
            "Drive already mounted at /content/drive; to attempt to forcibly remount, call drive.mount(\"/content/drive\", force_remount=True).\n"
          ]
        }
      ]
    },
    {
      "cell_type": "code",
      "source": [
        "import os\n",
        "\n",
        "os.chdir('/content/drive/My Drive/YapayZekaYaz2025')\n",
        "\n",
        "!pwd # bize kodun çıktısını dosya yolu olarak veren kod blogudur."
      ],
      "metadata": {
        "colab": {
          "base_uri": "https://localhost:8080/"
        },
        "id": "4XbZwbpQ5py9",
        "outputId": "b2f08c86-450e-41f0-d0e7-e77ccb5ad552"
      },
      "execution_count": 7,
      "outputs": [
        {
          "output_type": "stream",
          "name": "stdout",
          "text": [
            "/content/drive/My Drive/YapayZekaYaz2025\n"
          ]
        }
      ]
    }
  ]
}